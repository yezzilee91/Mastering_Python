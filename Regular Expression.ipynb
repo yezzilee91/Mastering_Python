{
 "cells": [
  {
   "cell_type": "markdown",
   "metadata": {},
   "source": [
    "## Regular Expression"
   ]
  },
  {
   "cell_type": "markdown",
   "metadata": {},
   "source": [
    "### Phone number checker "
   ]
  },
  {
   "cell_type": "code",
   "execution_count": 30,
   "metadata": {},
   "outputs": [
    {
     "data": {
      "text/plain": [
       "True"
      ]
     },
     "execution_count": 30,
     "metadata": {},
     "output_type": "execute_result"
    }
   ],
   "source": [
    "import re\n",
    "def is_phone(s):\n",
    "    given = s.split('-')\n",
    "    length = [3, 3, 4]\n",
    "    if len(given) != len(length):\n",
    "        return False\n",
    "    for p, n in zip(given, length):\n",
    "        if not (p.isdigit() and len(p) == n):\n",
    "            return False\n",
    "    return True\n",
    "\n",
    "is_phone('111-111-1111')"
   ]
  },
  {
   "cell_type": "code",
   "execution_count": 53,
   "metadata": {},
   "outputs": [
    {
     "data": {
      "text/plain": [
       "('240', '644', '2012')"
      ]
     },
     "execution_count": 53,
     "metadata": {},
     "output_type": "execute_result"
    }
   ],
   "source": [
    "def complex_phone (s):\n",
    "\n",
    "    pattern = '''\n",
    "        ^\\s*               # Leading spaces\n",
    "        (?P<area>          # Area code\n",
    "           \\d{3}-?         # make - optional\n",
    "           | \\(\\d{3}\\)\\s*  # OR \"(xxx) \"\n",
    "        )\n",
    "        (?P<second>\\d{3})  # second\n",
    "        -?                 # make - optional\n",
    "        (?P<last>\\d{4})    # last\n",
    "        \\s*$               # Trailing spaces\n",
    "    '''\n",
    "    matcher = re.compile(pattern, re.VERBOSE)\n",
    "    matches = matcher.match(s)\n",
    "    if matches is None:\n",
    "        raise ValueError(\"'Please double check your entry: {}'\".format (s))\n",
    "    area = re.search('\\d{3}', matches.group ('area')).group()\n",
    "    second = matches.group ('second')\n",
    "    last = matches.group ('last')\n",
    "    \n",
    "    if len(area) != 3 or len(second) != 3 or len(last) != 4:\n",
    "        raise ValueError(\"'{}' is invalid length.\".format (s))\n",
    "\n",
    "    if matches:\n",
    "        return (area, second, last)\n",
    "    \n",
    "    \n",
    "complex_phone('240-644-2012')"
   ]
  },
  {
   "cell_type": "markdown",
   "metadata": {},
   "source": [
    "### Finding matching\n",
    "\n",
    "1. match() - Determine if the RE matches at the beginning of the string.\n",
    "2. search() - Scan through a string, looking for any location where this RE matches.\n",
    "3. findall() - Find all substrings where the RE matches, and returns them as a list.\n",
    "4. finditer() - Find all substrings where the RE matches, and returns them as an iterator.\n"
   ]
  },
  {
   "cell_type": "code",
   "execution_count": 9,
   "metadata": {
    "scrolled": true
   },
   "outputs": [
    {
     "name": "stdout",
     "output_type": "stream",
     "text": [
      "<re.Match object; span=(24, 28), match='star'>\n",
      "star\n",
      "24\n",
      "28\n",
      "(24, 28)\n"
     ]
    }
   ],
   "source": [
    "import re\n",
    "text = 'star'\n",
    "find_matching = re.compile (text)\n",
    "\n",
    "input = 'twinkle, twinkle little star'\n",
    "matches = find_matching.search (input)\n",
    "print (matches)\n",
    "\n",
    "print (matches.group ())\n",
    "print (matches.start ())\n",
    "print (matches.end ())\n",
    "print (matches.span ())\n"
   ]
  },
  {
   "cell_type": "markdown",
   "metadata": {},
   "source": [
    "### Name detection"
   ]
  },
  {
   "cell_type": "code",
   "execution_count": 61,
   "metadata": {
    "scrolled": true
   },
   "outputs": [
    {
     "name": "stdout",
     "output_type": "stream",
     "text": [
      "Romeo\n",
      "('Juliet', 'A ', 'Capulet')\n",
      "Romeo Montague\n"
     ]
    }
   ],
   "source": [
    "name = re.compile ('''^\n",
    "                           (?P<first>[a-zA-Z]+)\n",
    "                           \\s\n",
    "                           (?P<middle>[a-zA-Z]+\\s)?\n",
    "                           \\s*\n",
    "                           (?P<last>[a-zA-Z]+)\n",
    "                           $\n",
    "                        ''',\n",
    "                        re.VERBOSE)\n",
    "print (name.match ('Romeo Montague').group ('first'))\n",
    "print (name.match ('Juliet A Capulet').groups ())\n",
    "print (name.match ('Romeo Montague').group ())\n"
   ]
  },
  {
   "cell_type": "markdown",
   "metadata": {},
   "source": [
    "### Email detection"
   ]
  },
  {
   "cell_type": "code",
   "execution_count": 81,
   "metadata": {},
   "outputs": [
    {
     "data": {
      "text/plain": [
       "('sample', 'gmail.com')"
      ]
     },
     "execution_count": 81,
     "metadata": {},
     "output_type": "execute_result"
    }
   ],
   "source": [
    "def email_detection (s):\n",
    "    \"\"\"Parses a string as an email address, returning an (id, domain) pair.\"\"\"\n",
    "    pattern = '''\n",
    "       ^\n",
    "       (?P<user>[a-zA-Z][\\w.\\-+]*)\n",
    "       @\n",
    "       (?P<domain>[\\w.\\-]*[a-zA-Z])\n",
    "       $\n",
    "    '''\n",
    "    matcher = re.compile(pattern, re.VERBOSE)\n",
    "    matches = matcher.match(s)\n",
    "    if matches:\n",
    "        return (matches.group('user'), matches.group('domain'))\n",
    "    raise ValueError(\"invalid email address\")\n",
    "    \n",
    "email_detection('sample@gmail.com')\n",
    "\n"
   ]
  }
 ],
 "metadata": {
  "kernelspec": {
   "display_name": "Python 3",
   "language": "python",
   "name": "python3"
  },
  "language_info": {
   "codemirror_mode": {
    "name": "ipython",
    "version": 3
   },
   "file_extension": ".py",
   "mimetype": "text/x-python",
   "name": "python",
   "nbconvert_exporter": "python",
   "pygments_lexer": "ipython3",
   "version": "3.7.3"
  }
 },
 "nbformat": 4,
 "nbformat_minor": 2
}
