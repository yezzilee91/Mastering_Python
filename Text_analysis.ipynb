{
 "cells": [
  {
   "cell_type": "markdown",
   "metadata": {},
   "source": [
    "# Text anlaysis"
   ]
  },
  {
   "cell_type": "markdown",
   "metadata": {},
   "source": [
    "### text input"
   ]
  },
  {
   "cell_type": "code",
   "execution_count": 6,
   "metadata": {
    "scrolled": true
   },
   "outputs": [
    {
     "name": "stdout",
     "output_type": "stream",
     "text": [
      "\n",
      "I can show you the world\n",
      "Shining, shimmering splendid\n",
      "Tell me, princess, now when did\n",
      "You last let \n"
     ]
    }
   ],
   "source": [
    "lyrics = \"\"\"\n",
    "I can show you the world\n",
    "Shining, shimmering splendid\n",
    "Tell me, princess, now when did\n",
    "You last let your heart decide?\n",
    "I can open your eyes\n",
    "Take you wonder by wonder\n",
    "Over sideways and under\n",
    "On a magic carpet ride\n",
    "A whole new world\n",
    "A new fantastic point of view\n",
    "No one to tell us no\n",
    "Or where to go\n",
    "Or say we're only dreaming\n",
    "A whole new world\n",
    "A dazzling place I never knew\n",
    "But when I'm way up here\n",
    "It's crystal clear\n",
    "That now I'm in a whole new world with you\n",
    "Now I'm in a whole new world with you\n",
    "Unbelievable sights\n",
    "Indescribable feeling\n",
    "Soaring, tumbling, freewheeling\n",
    "Through an endless diamond sky\n",
    "A whole new world (Don't you dare close your eyes)\n",
    "A hundred thousand things to see (Hold your breath, it gets better)\n",
    "I'm like a shooting star\n",
    "I've come so far\n",
    "I can't go back to where I used to be\n",
    "A whole new world (Every turn a surprise)\n",
    "With new horizons to pursue (Every moment, red-letter)\n",
    "I'll chase them anywhere\n",
    "There's time to spare\n",
    "Let me share this whole new world with you\n",
    "A whole new world (A whole new world)\n",
    "That's where we'll be (That's where we'll be)\n",
    "A thrilling chase\n",
    "A wondrous place\n",
    "For you and me\n",
    "\"\"\"\n",
    "\n",
    "print(lyrics[:100])"
   ]
  },
  {
   "cell_type": "markdown",
   "metadata": {},
   "source": [
    "### Text anlaysis with nltk\n",
    "\n",
    "1. Strip white space\n",
    "2. lowercase\n",
    "3. split into Tokens: a group of a sequence of characters\n",
    "4. delete punctuation\n",
    "5. take out stopwords\n",
    "6. print the most frequent words \n"
   ]
  },
  {
   "cell_type": "code",
   "execution_count": 64,
   "metadata": {},
   "outputs": [
    {
     "data": {
      "text/plain": [
       "[('', 20),\n",
       " ('new', 11),\n",
       " ('world', 10),\n",
       " ('whole', 9),\n",
       " ('tell', 2),\n",
       " ('let', 2),\n",
       " ('eyes', 2),\n",
       " ('wonder', 2),\n",
       " ('go', 2),\n",
       " ('place', 2)]"
      ]
     },
     "execution_count": 64,
     "metadata": {},
     "output_type": "execute_result"
    }
   ],
   "source": [
    "import nltk\n",
    "import re\n",
    "\n",
    "\n",
    "from nltk.corpus import stopwords\n",
    "\n",
    "#lowercase\n",
    "lyrics1 =  re.sub('\\s+',' ',lyrics)\n",
    "\n",
    "lower_text = lyrics1.lower()\n",
    "\n",
    "#tokenize\n",
    "text = nltk.word_tokenize(lower_text) #change tokens to customized NLTK Text\n",
    "\n",
    "#print(text[:20])\n",
    "\n",
    "#stripping the punctuation\n",
    "text_nopunct = [''.join(re.split(\"[.,;:!?''-)(]\",word)) for word in text]\n",
    "\n",
    "#take out stopwords\n",
    "stopwords = stopwords.words(\"english\")\n",
    "\n",
    "text_content = [word for word in text_nopunct if word.lower() not in stopwords]\n",
    "\n",
    "fdist5 = nltk.FreqDist(text_content)\n",
    "\n",
    "fdist5.most_common(10)\n",
    "\n"
   ]
  },
  {
   "cell_type": "markdown",
   "metadata": {},
   "source": [
    "### Data cleaning\n",
    "Convert to lowercase and remove characters with non-alphabetic and non-whitespace"
   ]
  },
  {
   "cell_type": "code",
   "execution_count": 9,
   "metadata": {},
   "outputs": [
    {
     "name": "stdout",
     "output_type": "stream",
     "text": [
      "\n",
      "i can show you the world\n",
      "shining shimmering splendid\n",
      "tell me princess now when did\n",
      "you last let \n"
     ]
    }
   ],
   "source": [
    "def cleaning(text):\n",
    "    update = [i for i in text.lower() if i.isalpha() or i.isspace()]\n",
    "    return ''.join(update)\n",
    "\n",
    "print(cleaning(lyrics[:100]))"
   ]
  },
  {
   "cell_type": "markdown",
   "metadata": {},
   "source": [
    "### Normalizing text\n"
   ]
  },
  {
   "cell_type": "code",
   "execution_count": 12,
   "metadata": {},
   "outputs": [
    {
     "name": "stdout",
     "output_type": "stream",
     "text": [
      "['i', 'can', 'show', 'you', 'the', 'world']\n"
     ]
    }
   ],
   "source": [
    "def normalize(text):\n",
    "    return cleaning (text).split ()\n",
    "\n",
    "print(normalize(lyrics[:25]))"
   ]
  },
  {
   "cell_type": "code",
   "execution_count": 13,
   "metadata": {
    "scrolled": true
   },
   "outputs": [
    {
     "name": "stdout",
     "output_type": "stream",
     "text": [
      "[{'i'}, {'a', 'c', 'n'}, {'o', 'w', 's', 'h'}, {'o', 'u', 'y'}, {'t', 'e', 'h'}, {'o', 'l', 'r', 'w', 'd'}]\n"
     ]
    }
   ],
   "source": [
    "def itemize(char):\n",
    "    return [set(c) for c in char]\n",
    "\n",
    "test = normalize(lyrics[:25])\n",
    "print(itemize(test))"
   ]
  },
  {
   "cell_type": "markdown",
   "metadata": {},
   "source": [
    "### item counts"
   ]
  },
  {
   "cell_type": "code",
   "execution_count": 78,
   "metadata": {
    "scrolled": true
   },
   "outputs": [
    {
     "name": "stdout",
     "output_type": "stream",
     "text": [
      "(['star', 'shinning', 'magic'], ['princess', 'star', 'heart', 'carpet'], defaultdict(<class 'int'>, {('princess', 'star'): 1, ('star', 'princess'): 1, ('princess', 'heart'): 1, ('heart', 'princess'): 1, ('princess', 'carpet'): 1, ('carpet', 'princess'): 1, ('star', 'heart'): 1, ('heart', 'star'): 1, ('star', 'carpet'): 1, ('carpet', 'star'): 1, ('heart', 'carpet'): 1, ('carpet', 'heart'): 1}))\n"
     ]
    }
   ],
   "source": [
    "from collections import defaultdict\n",
    "from itertools import combinations\n",
    "\n",
    "def pair_count (pair, count):\n",
    "\n",
    "    for (a, b) in combinations (count, 2):\n",
    "        pair[(a, b)] += 1\n",
    "        pair[(b, a)] += 1\n",
    "\n",
    "item_1 = [\"star\",\"shinning\",\"magic\"]\n",
    "item_2 = [\"princess\",\"star\",\"heart\",\"carpet\"]\n",
    "\n",
    "pair = defaultdict(int)\n",
    "pair_count(pair, item_2)\n",
    "print((item_1, item_2, pair))\n"
   ]
  }
 ],
 "metadata": {
  "kernelspec": {
   "display_name": "Python 3",
   "language": "python",
   "name": "python3"
  },
  "language_info": {
   "codemirror_mode": {
    "name": "ipython",
    "version": 3
   },
   "file_extension": ".py",
   "mimetype": "text/x-python",
   "name": "python",
   "nbconvert_exporter": "python",
   "pygments_lexer": "ipython3",
   "version": "3.7.3"
  }
 },
 "nbformat": 4,
 "nbformat_minor": 2
}
