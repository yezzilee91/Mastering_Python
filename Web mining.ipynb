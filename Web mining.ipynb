{
 "cells": [
  {
   "cell_type": "markdown",
   "metadata": {},
   "source": [
    "## web mining"
   ]
  },
  {
   "cell_type": "code",
   "execution_count": 1,
   "metadata": {
    "scrolled": true
   },
   "outputs": [
    {
     "name": "stdout",
     "output_type": "stream",
     "text": [
      "<!DOCTYPE html>\n",
      "<html lang=\"en\" dir=\"ltr\" \n",
      "  xmlns:content=\"http://purl.org/rss/1.0/modules/content/\"\n",
      "  xmlns:dc=\"http://purl.org/dc/terms/\"\n",
      "  xmlns:foaf=\"http://xmlns.com/foaf/0.1/\"\n",
      "  xmlns:og=\"http://ogp.me/ns#\"\n",
      "  xmlns:rdfs=\"http://www.w3.org/2000\n"
     ]
    }
   ],
   "source": [
    "import requests\n",
    "\n",
    "response = requests.get('http://www.gatech.edu/')\n",
    "webpage = response.text  # or response.content for raw bytes\n",
    "\n",
    "print(webpage[0:250]) "
   ]
  },
  {
   "cell_type": "code",
   "execution_count": 2,
   "metadata": {
    "scrolled": true
   },
   "outputs": [
    {
     "name": "stdout",
     "output_type": "stream",
     "text": [
      "<!DOCTYPE HTML PUBLIC \"-//W3C//DTD HTML 4.01 Transitional//EN\" \"http://www.w3.org/TR/html4/loose.dtd\"> <html lang=\"en\"> \r\n",
      "<head>\r\n",
      "<!-- P1 -->\r\n",
      "<meta name=\"viewport\" content=\"initial-scale=0.8; width=device-width\" /> <script> function getWidth() { xWi\n"
     ]
    }
   ],
   "source": [
    "import requests\n",
    "response_bls = requests.get('https://www.bls.gov/')\n",
    "webpage_bls = response_bls.text  # or response.content for raw bytes\n",
    "\n",
    "print(webpage_bls[0:250]) "
   ]
  },
  {
   "cell_type": "code",
   "execution_count": 3,
   "metadata": {
    "scrolled": true
   },
   "outputs": [
    {
     "name": "stdout",
     "output_type": "stream",
     "text": [
      "Links to more information: ['http://www.president.gatech.edu/car-report', 'http://breach.gatech.edu']\n"
     ]
    }
   ],
   "source": [
    "import re # Maybe you want to use a regular expression?\n",
    "\n",
    "def get_more_information(webpage_text):\n",
    "    \"\"\"Given the HTML text for the GT front page, returns a list\n",
    "    of the URLs of the top stories or an empty list if none are\n",
    "    found.\n",
    "    \"\"\"\n",
    "    pattern = '''<p class=\"highlight-link-yellow rtecenter\"><a href=\"(?P<url>[^\"]+)\"'''\n",
    "    return re.findall(pattern, webpage_text)\n",
    "\n",
    "more_information = get_more_information(webpage)\n",
    "print(\"Links to more information:\", more_information)"
   ]
  },
  {
   "cell_type": "code",
   "execution_count": 4,
   "metadata": {},
   "outputs": [
    {
     "data": {
      "text/plain": [
       "['U.S. Bureau of Labor Statistics']"
      ]
     },
     "execution_count": 4,
     "metadata": {},
     "output_type": "execute_result"
    }
   ],
   "source": [
    "import re # Maybe you want to use a regular expression?\n",
    "\n",
    "def get_information(webpage_text):\n",
    "    pattern = '''<title.*?>(.+?)</title>'''\n",
    "    return re.findall(pattern, webpage_text)\n",
    "\n",
    "information = get_information(webpage_bls)\n",
    "information\n",
    "#print(\"Links to more information:\", information)"
   ]
  },
  {
   "cell_type": "markdown",
   "metadata": {},
   "source": [
    "### yelp"
   ]
  },
  {
   "cell_type": "code",
   "execution_count": 5,
   "metadata": {
    "scrolled": true
   },
   "outputs": [
    {
     "name": "stdout",
     "output_type": "stream",
     "text": [
      "==> Downloading from: 'https://www.yelp.com/search?find_desc=burgers&find_loc=atlanta%2C+ga'\n",
      "\n",
      "==> Excerpt from this URL:\n",
      "\n",
      "<!DOCTYPE HTML>\n",
      "\n",
      "<!--[if lt IE 7 ]> <html xmlns:fb=\"http://www.facebook.com/2008/fbml\" class=\"ie6 ie\n",
      "\n"
     ]
    }
   ],
   "source": [
    "#https://www.yelp.com/search?find_desc=burgers&find_loc=Washington%2C%20DC\n",
    "\n",
    "url_command = 'http://yelp.com/search'\n",
    "url_args = {'find_desc': \"burgers\",\n",
    "            'find_loc': \"atlanta, ga\"}\n",
    "response = requests.get (url_command, params=url_args)\n",
    "\n",
    "print (\"==> Downloading from: '%s'\" % response.url) # confirm URL\n",
    "print (\"\\n==> Excerpt from this URL:\\n\\n%s\\n\" % response.text[0:100])"
   ]
  },
  {
   "cell_type": "code",
   "execution_count": 6,
   "metadata": {
    "scrolled": true
   },
   "outputs": [
    {
     "name": "stdout",
     "output_type": "stream",
     "text": [
      "==> Downloading from: 'https://www.expedia.com/Hotel-Search?destination=rockville%2C+maryland&endDate=2019-10-06&startDate=2019-10-05'\n",
      "\n",
      "==> Excerpt from this URL:\n",
      "\n",
      "<!DOCTYPE html>\n",
      "\n",
      "\n",
      "\n",
      "\n",
      "\n",
      "<html class=\"no-js\" data-version=\"v2.217.3.80473e801d577a526da52bbe0e9294f02c2b\n",
      "\n"
     ]
    }
   ],
   "source": [
    "#https://www.expedia.com/Hotel-Search?destination=rockville%2C%20maryland&endDate=2019-10-06&regionId=6353&startDate=2019-10-05\n",
    "\n",
    "hotel_url = \"https://www.expedia.com/Hotel-Search\"\n",
    "filter_options = {'destination': 'rockville, maryland',\n",
    "                  'endDate':'2019-10-06',\n",
    "                  'startDate': '2019-10-05'\n",
    "}\n",
    "\n",
    "response_expedia = requests.get (hotel_url, params=filter_options)\n",
    "\n",
    "print (\"==> Downloading from: '%s'\" % response_expedia.url) # confirm URL\n",
    "print (\"\\n==> Excerpt from this URL:\\n\\n%s\\n\" % response_expedia.text[0:100])"
   ]
  },
  {
   "cell_type": "code",
   "execution_count": 7,
   "metadata": {},
   "outputs": [
    {
     "ename": "SyntaxError",
     "evalue": "invalid syntax (<ipython-input-7-127b3ac03677>, line 1)",
     "output_type": "error",
     "traceback": [
      "\u001b[1;36m  File \u001b[1;32m\"<ipython-input-7-127b3ac03677>\"\u001b[1;36m, line \u001b[1;32m1\u001b[0m\n\u001b[1;33m    <a class=\"lemon--a__373c0__IEZFH link__373c0__29943 link-color--blue-dark__373c0__1mhJo link-size--inherit__373c0__2JXk5\" href=\"/adredir?ad_business_id=57d0Gmx4JKuKQWyJYu0yfg&amp;campaign_id=8WNuiCKbBqaeKVwPmMtztg&amp;click_origin=search_results&amp;placement=above_search&amp;redirect_url=https%3A%2F%2Fwww.yelp.com%2Fbiz%2Fjinya-ramen-bar-atlanta-7&amp;request_id=e12fee9f1a5c7cc5&amp;signature=ec263846b0378a62932a94ff0264f4adb5c662d1b5086b5495fcb1023dc44c20&amp;slot=0\" target=\"\" name=\"JINYA Ramen Bar\" rel=\"\">JINYA Ramen Bar</a>\u001b[0m\n\u001b[1;37m    ^\u001b[0m\n\u001b[1;31mSyntaxError\u001b[0m\u001b[1;31m:\u001b[0m invalid syntax\n"
     ]
    }
   ],
   "source": [
    "<a class=\"lemon--a__373c0__IEZFH link__373c0__29943 link-color--blue-dark__373c0__1mhJo link-size--inherit__373c0__2JXk5\" href=\"/adredir?ad_business_id=57d0Gmx4JKuKQWyJYu0yfg&amp;campaign_id=8WNuiCKbBqaeKVwPmMtztg&amp;click_origin=search_results&amp;placement=above_search&amp;redirect_url=https%3A%2F%2Fwww.yelp.com%2Fbiz%2Fjinya-ramen-bar-atlanta-7&amp;request_id=e12fee9f1a5c7cc5&amp;signature=ec263846b0378a62932a94ff0264f4adb5c662d1b5086b5495fcb1023dc44c20&amp;slot=0\" target=\"\" name=\"JINYA Ramen Bar\" rel=\"\">JINYA Ramen Bar</a>"
   ]
  },
  {
   "cell_type": "code",
   "execution_count": 9,
   "metadata": {},
   "outputs": [
    {
     "name": "stdout",
     "output_type": "stream",
     "text": [
      "wrong\n"
     ]
    }
   ],
   "source": [
    "\n",
    "def find_yelp_item (topic, location, k):\n",
    "    \"\"\"Returns the k-th suggested item from Yelp! in Atlanta for the given topic.\"\"\"\n",
    "    import re\n",
    "    if k < 1: return None\n",
    "        \n",
    "    # Download page\n",
    "    url_command = 'http://yelp.com/search'\n",
    "    url_args = {'find_desc': topic,\n",
    "                'find_loc': location,\n",
    "                'start': k-1\n",
    "               }\n",
    "    \n",
    "    response = requests.get (url_command, params=url_args)\n",
    "    if not response: return None\n",
    "    \n",
    "    # Split page into lines\n",
    "    lines = response.text.split ('\\n')\n",
    "    \n",
    "    # Look for the line containing the name of the k-th item\n",
    "    item_pattern = re.compile ('<span class=\"lemon--a__373c0__IEZFH link__373c0__29943 link-color--blue-dark__373c0__1mhJo link-size--inherit__373c0__2JXk5\">{}\\..*<span >(?P<item_name>.*)</span></a>'.format (k))\n",
    "    for l in lines:\n",
    "        item_match = item_pattern.search (l)\n",
    "        if item_match:\n",
    "            return item_match.group ('item_name')\n",
    "    return print(\"wrong\")\n",
    "\n",
    "\n",
    "find_yelp_item('ramen', 'Atlanta, GA', 2)"
   ]
  },
  {
   "cell_type": "code",
   "execution_count": null,
   "metadata": {},
   "outputs": [],
   "source": [
    "def hotel_search (location, date1, date2):\n",
    "    \"\"\"Returns the k-th suggested item from Yelp! in Atlanta for the given topic.\"\"\"\n",
    "    import re\n",
    "    # Download page\n",
    "    url_command = 'http://yelp.com/search'\n",
    "    url_args = {'destination': location,\n",
    "                  'endDate': date2,\n",
    "                  'startDate': date1}\n",
    "    \n",
    "    response = requests.get (url_command, params=url_args)\n",
    "    if not response: return None\n",
    "    \n",
    "    # Split page into lines\n",
    "    lines = response.text.split ('\\n')\n",
    "    \n",
    "    # Look for the line containing the name of the k-th item\n",
    "    item_pattern = re.compile ('<h3 class=\"pwa-theme--grey-900 truncate all-b-padding-half uitk-type-heading-500\" data-stid=\"content-hotel-title\" aria-hidden=\"false\" hidden=\"\">(?P<item_name>.*)')\n",
    "    return re.findall(item_pattern,response)\n",
    "  \n",
    "\n",
    "hotel_search('rockville, maryland','2019-10-06','2019-10-05')"
   ]
  },
  {
   "cell_type": "code",
   "execution_count": null,
   "metadata": {},
   "outputs": [],
   "source": [
    " for l in lines:\n",
    "        item_match = item_pattern.search (l)\n",
    "        if item_match:\n",
    "            return item_match.group ('item_name')\n",
    "\n",
    "    # No matches, evidently\n",
    "    return print(\"someting wrong\")\n"
   ]
  }
 ],
 "metadata": {
  "kernelspec": {
   "display_name": "Python 3",
   "language": "python",
   "name": "python3"
  },
  "language_info": {
   "codemirror_mode": {
    "name": "ipython",
    "version": 3
   },
   "file_extension": ".py",
   "mimetype": "text/x-python",
   "name": "python",
   "nbconvert_exporter": "python",
   "pygments_lexer": "ipython3",
   "version": "3.7.3"
  }
 },
 "nbformat": 4,
 "nbformat_minor": 2
}
